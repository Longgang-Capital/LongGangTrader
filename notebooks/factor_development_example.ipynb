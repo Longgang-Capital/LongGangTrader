{
 "cells": [
  {
   "cell_type": "markdown",
   "id": "58b69820",
   "metadata": {},
   "source": [
    "# 因子开发与回测示例\n",
    "\n",
    "本 Notebook 展示了如何使用 `longgang_trader` 框架进行一次完整的因子开发和回测流程。"
   ]
  },
  {
   "cell_type": "markdown",
   "id": "b6c5b81f",
   "metadata": {},
   "source": [
    "## 1. 加载数据"
   ]
  },
  {
   "cell_type": "code",
   "execution_count": null,
   "id": "483e35a1",
   "metadata": {},
   "outputs": [],
   "source": [
    "from longgang_trader.data.data_loader import DataLoader\n",
    "\n",
    "# 初始化数据加载器（此处应有配置文件）\n",
    "dl = DataLoader(config={...})\n",
    "\n",
    "# 加载数据\n",
    "stock_data = dl.load_stock_data([...]) # type: ignore"
   ]
  },
  {
   "cell_type": "markdown",
   "id": "d5047030",
   "metadata": {},
   "source": [
    "## 2. 计算因子"
   ]
  },
  {
   "cell_type": "code",
   "execution_count": null,
   "id": "048eea64",
   "metadata": {},
   "outputs": [],
   "source": [
    "from longgang_trader.alpha.factor_calculator import MomentumFactor, FactorCalculator\n",
    "\n",
    "# 创建一个20日动量因子\n",
    "mom_factor = MomentumFactor(window=20)\n",
    "\n",
    "# 使用因子计算器\n",
    "calculator = FactorCalculator(stock_data)\n",
    "calculator.add_factor(mom_factor)\n",
    "factor_df = calculator.run()"
   ]
  },
  {
   "cell_type": "markdown",
   "id": "83860a65",
   "metadata": {},
   "source": [
    "## 3. 因子检验"
   ]
  },
  {
   "cell_type": "code",
   "execution_count": null,
   "id": "8b1e0997",
   "metadata": {},
   "outputs": [],
   "source": [
    "from longgang_trader.alpha.factor_testing import FactorTester\n",
    "\n",
    "# 准备收益率数据\n",
    "returns_data = ...\n",
    "\n",
    "# 初始化因子检验器\n",
    "tester = FactorTester(factor_df, returns_data, ...)\n",
    "\n",
    "# 运行检验并查看结果\n",
    "tester.run_all_tests()"
   ]
  },
  {
   "cell_type": "markdown",
   "id": "21cbe9c0",
   "metadata": {},
   "source": [
    "## 4. 回测"
   ]
  },
  {
   "cell_type": "code",
   "execution_count": null,
   "id": "c1f2962f",
   "metadata": {},
   "outputs": [],
   "source": [
    "from longgang_trader.backtesting.backtester import Backtester, BaseStrategy\n",
    "\n",
    "# 定义一个简单的分层回测策略\n",
    "class SimpleLayeredStrategy(BaseStrategy):\n",
    "    def generate_signals(self, current_date, current_positions):\n",
    "        # 在每个调仓日，买入因子值最高的10%的股票，卖出最低的10%\n",
    "        pass\n",
    "\n",
    "# 初始化策略和回测器\n",
    "strategy = SimpleLayeredStrategy(factor_df)\n",
    "bt = Backtester(strategy, stock_data, initial_capital=10000000, transaction_cost=0.001)\n",
    "\n",
    "# 运行回测\n",
    "# 在运行前，请确保已经编译了Rust核心: `cargo build --release`\n",
    "bt.run_backtest()\n",
    "\n",
    "# 查看表现\n",
    "bt.plot_equity_curve()\n",
    "print(bt.calculate_performance_metrics())"
   ]
  },
  {
   "cell_type": "markdown",
   "id": "e266835e",
   "metadata": {},
   "source": [
    "## 虚拟数据测试"
   ]
  },
  {
   "cell_type": "code",
   "execution_count": 1,
   "id": "d4381f01",
   "metadata": {},
   "outputs": [
    {
     "name": "stdout",
     "output_type": "stream",
     "text": [
      "虚拟股票数据 (stock_data):\n",
      "         date   symbol      close\n",
      "0  2023-01-01  STOCK_A  13.745401\n",
      "1  2023-01-01  STOCK_B  19.507143\n",
      "2  2023-01-01  STOCK_C  17.319939\n",
      "3  2023-01-02  STOCK_A  29.731986\n",
      "4  2023-01-02  STOCK_B  31.067329\n",
      "5  2023-01-02  STOCK_C  28.879885\n",
      "6  2023-01-03  STOCK_A  40.312822\n",
      "7  2023-01-03  STOCK_B  49.729091\n",
      "8  2023-01-03  STOCK_C  44.891035\n",
      "9  2023-01-04  STOCK_A  57.393548\n",
      "10 2023-01-04  STOCK_B  59.934936\n",
      "11 2023-01-04  STOCK_C  64.590133\n",
      "虚拟因子数据 (factor_df):\n",
      "         date   symbol  factor_value\n",
      "0  2023-01-01  STOCK_A     -0.469474\n",
      "1  2023-01-01  STOCK_B      0.542560\n",
      "2  2023-01-01  STOCK_C     -0.463418\n",
      "3  2023-01-02  STOCK_A     -0.465730\n",
      "4  2023-01-02  STOCK_B      0.241962\n",
      "5  2023-01-02  STOCK_C     -1.913280\n",
      "6  2023-01-03  STOCK_A     -1.724918\n",
      "7  2023-01-03  STOCK_B     -0.562288\n",
      "8  2023-01-03  STOCK_C     -1.012831\n",
      "9  2023-01-04  STOCK_A      0.314247\n",
      "10 2023-01-04  STOCK_B     -0.908024\n",
      "11 2023-01-04  STOCK_C     -1.412304\n"
     ]
    }
   ],
   "source": [
    "import pandas as pd\n",
    "import numpy as np\n",
    "\n",
    "# --- 创建虚拟股票数据 ---\n",
    "# 日期范围\n",
    "dates = pd.to_datetime(['2023-01-01', '2023-01-02', '2023-01-03', '2023-01-04'])\n",
    "# 股票列表\n",
    "symbols = ['STOCK_A', 'STOCK_B', 'STOCK_C']\n",
    "\n",
    "# 使用 MultiIndex 创建 DataFrame 结构\n",
    "index = pd.MultiIndex.from_product([dates, symbols], names=['date', 'symbol'])\n",
    "stock_data = pd.DataFrame(index=index).reset_index()\n",
    "\n",
    "# 生成随机收盘价\n",
    "np.random.seed(42)\n",
    "stock_data['close'] = np.random.uniform(10, 20, size=len(stock_data))\n",
    "# 模拟价格波动\n",
    "stock_data['close'] = stock_data.groupby('symbol')['close'].transform(lambda x: x.cumsum())\n",
    "\n",
    "print(\"虚拟股票数据 (stock_data):\")\n",
    "print(stock_data)\n",
    "# --- 创建虚拟因子数据 ---\n",
    "# 确保因子数据与股票数据的时间和代码对齐\n",
    "factor_df = stock_data[['date', 'symbol']].copy()\n",
    "# 生成随机因子值\n",
    "factor_df['factor_value'] = np.random.randn(len(factor_df))\n",
    "\n",
    "print(\"虚拟因子数据 (factor_df):\")\n",
    "print(factor_df)"
   ]
  },
  {
   "cell_type": "code",
   "execution_count": 2,
   "id": "6214e430",
   "metadata": {},
   "outputs": [
    {
     "name": "stdout",
     "output_type": "stream",
     "text": [
      "项目根目录已添加至 sys.path: d:\\Notes\\Project\\LongGangTrader\n",
      "模块 'longgang_trader' 导入成功！\n",
      "\n",
      "--- 开始执行回测 ---\n",
      "\n",
      "生成的交易信号 (signals):\n",
      "        date   symbol  target_weight\n",
      "1 2023-01-01  STOCK_B            1.0\n",
      "4 2023-01-02  STOCK_B            1.0\n",
      "7 2023-01-03  STOCK_B            1.0\n",
      "9 2023-01-04  STOCK_A            1.0\n",
      "Rust 回测成功完成。\n",
      "\n",
      "回测结果 (Portfolio History):\n",
      "         date      equity\n",
      "0  2023-01-01  10000000.0\n",
      "1  2023-01-02   1000500.0\n",
      "2  2023-01-03   1001000.0\n"
     ]
    },
    {
     "data": {
      "image/png": "[encoded data removed]",
      "text/plain": [
       "<Figure size 640x480 with 1 Axes>"
      ]
     },
     "metadata": {},
     "output_type": "display_data"
    }
   ],
   "source": [
    "import sys\n",
    "import os\n",
    "\n",
    "# 将项目根目录添加到 Python 的模块搜索路径中\n",
    "# 这使得 Notebook 可以成功导入 'longgang_trader' 模块\n",
    "project_root = os.path.abspath(os.path.join(os.getcwd(), '..'))\n",
    "if project_root not in sys.path:\n",
    "    sys.path.append(project_root)\n",
    "    print(f\"项目根目录已添加至 sys.path: {project_root}\")\n",
    "\n",
    "# 验证：现在应该可以成功导入了\n",
    "try:\n",
    "    import longgang_trader\n",
    "    print(\"模块 'longgang_trader' 导入成功！\")\n",
    "except ImportError:\n",
    "    print(\"错误：仍然无法导入 'longgang_trader'。\")\n",
    "from longgang_trader.backtesting.backtester import Backtester, BaseStrategy\n",
    "import pandas as pd\n",
    "\n",
    "# 定义一个简单的分层回测策略\n",
    "class SimpleLayeredStrategy(BaseStrategy):\n",
    "    \"\"\"一个简单的策略，在每个交易日，等权重买入因子值最高的一只股票\"\"\"\n",
    "    def generate_signals_for_all_dates(self):\n",
    "        # 合并因子数据，方便处理\n",
    "        data = self.factor_data.copy()\n",
    "        \n",
    "        # 在每个日期，找到因子值最高的股票\n",
    "        top_stocks = data.loc[data.groupby('date')['factor_value'].idxmax()]\n",
    "        \n",
    "        # 设置目标权重为1.0\n",
    "        top_stocks['target_weight'] = 1.0\n",
    "        \n",
    "        signals = top_stocks[['date', 'symbol', 'target_weight']]\n",
    "        \n",
    "        print(\"\\n生成的交易信号 (signals):\")\n",
    "        print(signals)\n",
    "        return signals\n",
    "\n",
    "# --- 运行回测 ---\n",
    "print(\"\\n--- 开始执行回测 ---\")\n",
    "# 1. 初始化策略\n",
    "strategy = SimpleLayeredStrategy(factor_df)\n",
    "\n",
    "# 2. 初始化回测器\n",
    "# 注意：确保你已经成功运行了 `maturin develop`\n",
    "bt = Backtester(\n",
    "    strategy=strategy, \n",
    "    data=stock_data, \n",
    "    initial_capital=10000000.0, \n",
    "    transaction_cost=0.001\n",
    ")\n",
    "\n",
    "# 3. 运行回测（这将调用 Rust 核心）\n",
    "bt.run_backtest()\n",
    "\n",
    "# 4. 查看表现\n",
    "print(\"\\n回测结果 (Portfolio History):\")\n",
    "portfolio_history = bt.get_portfolio_history()\n",
    "print(portfolio_history)\n",
    "\n",
    "# 如果有结果，可以绘制资金曲线\n",
    "if portfolio_history is not None and not portfolio_history.empty:\n",
    "    portfolio_history.plot(x='date', y='equity', title='Equity Curve')"
   ]
  }
 ],
 "metadata": {
  "kernelspec": {
   "display_name": "base",
   "language": "python",
   "name": "python3"
  },
  "language_info": {
   "codemirror_mode": {
    "name": "ipython",
    "version": 3
   },
   "file_extension": ".py",
   "mimetype": "text/x-python",
   "name": "python",
   "nbconvert_exporter": "python",
   "pygments_lexer": "ipython3",
   "version": "3.12.3"
  }
 },
 "nbformat": 4,
 "nbformat_minor": 5
}
