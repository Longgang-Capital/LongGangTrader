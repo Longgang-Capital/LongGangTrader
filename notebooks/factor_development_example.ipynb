{
 "cells": [
  {
   "cell_type": "markdown",
   "id": "58b69820",
   "metadata": {},
   "source": [
    "# 因子开发与回测示例\n",
    "\n",
    "本 Notebook 展示了如何使用 `longgang_trader` 框架进行一次完整的因子开发和回测流程。"
   ]
  },
  {
   "cell_type": "markdown",
   "id": "b6c5b81f",
   "metadata": {},
   "source": [
    "## 1. 加载数据"
   ]
  },
  {
   "cell_type": "code",
   "execution_count": null,
   "id": "483e35a1",
   "metadata": {},
   "outputs": [],
   "source": [
    "from longgang_trader.data.data_loader import DataLoader\n",
    "\n",
    "# 初始化数据加载器（此处应有配置文件）\n",
    "dl = DataLoader(config={...})\n",
    "\n",
    "# 加载数据\n",
    "stock_data = dl.load_stock_data([...]) # type: ignore"
   ]
  },
  {
   "cell_type": "markdown",
   "id": "d5047030",
   "metadata": {},
   "source": [
    "## 2. 计算因子"
   ]
  },
  {
   "cell_type": "code",
   "execution_count": null,
   "id": "048eea64",
   "metadata": {},
   "outputs": [],
   "source": [
    "from longgang_trader.alpha.factor_calculator import MomentumFactor, FactorCalculator\n",
    "\n",
    "# 创建一个20日动量因子\n",
    "mom_factor = MomentumFactor(window=20)\n",
    "\n",
    "# 使用因子计算器\n",
    "calculator = FactorCalculator(stock_data)\n",
    "calculator.add_factor(mom_factor)\n",
    "factor_df = calculator.run()"
   ]
  },
  {
   "cell_type": "markdown",
   "id": "83860a65",
   "metadata": {},
   "source": [
    "## 3. 因子检验"
   ]
  },
  {
   "cell_type": "code",
   "execution_count": null,
   "id": "8b1e0997",
   "metadata": {},
   "outputs": [],
   "source": [
    "from longgang_trader.alpha.factor_testing import FactorTester\n",
    "\n",
    "# 准备收益率数据\n",
    "returns_data = ...\n",
    "\n",
    "# 初始化因子检验器\n",
    "tester = FactorTester(factor_df, returns_data, ...)\n",
    "\n",
    "# 运行检验并查看结果\n",
    "tester.run_all_tests()"
   ]
  },
  {
   "cell_type": "markdown",
   "id": "21cbe9c0",
   "metadata": {},
   "source": [
    "## 4. 回测"
   ]
  },
  {
   "cell_type": "code",
   "execution_count": null,
   "id": "c1f2962f",
   "metadata": {},
   "outputs": [],
   "source": [
    "from longgang_trader.backtesting.backtester import Backtester, BaseStrategy\n",
    "\n",
    "# 定义一个简单的分层回测策略\n",
    "class SimpleLayeredStrategy(BaseStrategy):\n",
    "    def generate_signals(self, current_date, current_positions):\n",
    "        # 在每个调仓日，买入因子值最高的10%的股票，卖出最低的10%\n",
    "        pass\n",
    "\n",
    "# 初始化策略和回测器\n",
    "strategy = SimpleLayeredStrategy(factor_df)\n",
    "bt = Backtester(strategy, stock_data, initial_capital=10000000, transaction_cost=0.001)\n",
    "\n",
    "# 运行回测\n",
    "# 在运行前，请确保已经编译了Rust核心: `cargo build --release`\n",
    "bt.run_backtest()\n",
    "\n",
    "# 查看表现\n",
    "bt.plot_equity_curve()\n",
    "print(bt.calculate_performance_metrics())"
   ]
  }
 ],
 "metadata": {
  "language_info": {
   "name": "python"
  }
 },
 "nbformat": 4,
 "nbformat_minor": 5
}
